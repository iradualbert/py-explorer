{
 "cells": [
  {
   "cell_type": "code",
   "execution_count": 26,
   "metadata": {},
   "outputs": [],
   "source": [
    "import pandas as pd\n",
    "import json"
   ]
  },
  {
   "cell_type": "code",
   "execution_count": 2,
   "metadata": {},
   "outputs": [],
   "source": [
    "df = pd.read_csv(\"netflix_titles.csv\")"
   ]
  },
  {
   "cell_type": "code",
   "execution_count": 11,
   "metadata": {},
   "outputs": [],
   "source": [
    "size, columns = df.shape"
   ]
  },
  {
   "cell_type": "code",
   "execution_count": 32,
   "metadata": {},
   "outputs": [],
   "source": [
    "movie = df.iloc[100]\n",
    "movies = list(df)"
   ]
  },
  {
   "cell_type": "code",
   "execution_count": 30,
   "metadata": {},
   "outputs": [],
   "source": [
    "small_df = df[['show_id', 'title', '']]"
   ]
  },
  {
   "cell_type": "code",
   "execution_count": 35,
   "metadata": {},
   "outputs": [],
   "source": [
    "movies = None"
   ]
  },
  {
   "cell_type": "code",
   "execution_count": 47,
   "metadata": {},
   "outputs": [
    {
     "data": {
      "text/plain": [
       "['Gupse',\n",
       " 'Özay,',\n",
       " 'Eda',\n",
       " 'Ece,',\n",
       " 'Aksel',\n",
       " 'Bonfil,',\n",
       " 'Derya',\n",
       " 'Alabora,',\n",
       " 'Esin',\n",
       " 'Eden,',\n",
       " 'Hülya',\n",
       " 'Duyar,',\n",
       " 'Ali',\n",
       " 'Çelik,',\n",
       " 'Mert',\n",
       " 'Öner']"
      ]
     },
     "execution_count": 47,
     "metadata": {},
     "output_type": "execute_result"
    }
   ],
   "source": [
    "casts = movie[\"cast\"].split(\" \")\n",
    "casts "
   ]
  },
  {
   "cell_type": "code",
   "execution_count": 45,
   "metadata": {},
   "outputs": [
    {
     "data": {
      "text/plain": [
       "{'show_id': 81132443,\n",
       " 'type': 'Movie',\n",
       " 'title': 'Deliha 2',\n",
       " 'director': 'Gupse Özay',\n",
       " 'cast': 'Gupse Özay, Eda Ece, Aksel Bonfil, Derya Alabora, Esin Eden, Hülya Duyar, Ali Çelik, Mert Öner',\n",
       " 'country': 'Turkey',\n",
       " 'date_added': 'September 27, 2019',\n",
       " 'release_year': 2018,\n",
       " 'rating': 'TV-PG',\n",
       " 'duration': '102 min',\n",
       " 'listed_in': 'Comedies, International Movies',\n",
       " 'description': 'While chasing her dream of becoming a chef, Zeliha cooks up trouble in the kitchen with her wild, kooky and unsuspecting ways.'}"
      ]
     },
     "execution_count": 45,
     "metadata": {},
     "output_type": "execute_result"
    }
   ],
   "source": [
    "small_df = df[[\"show_id\", \"title\"]]\n",
    "movie"
   ]
  },
  {
   "cell_type": "code",
   "execution_count": null,
   "metadata": {},
   "outputs": [],
   "source": []
  }
 ],
 "metadata": {
  "kernelspec": {
   "display_name": "Python 3",
   "language": "python",
   "name": "python3"
  },
  "language_info": {
   "codemirror_mode": {
    "name": "ipython",
    "version": 3
   },
   "file_extension": ".py",
   "mimetype": "text/x-python",
   "name": "python",
   "nbconvert_exporter": "python",
   "pygments_lexer": "ipython3",
   "version": "3.7.4"
  }
 },
 "nbformat": 4,
 "nbformat_minor": 4
}
